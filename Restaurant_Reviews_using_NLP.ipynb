{
  "cells": [
    {
      "cell_type": "markdown",
      "metadata": {
        "id": "view-in-github",
        "colab_type": "text"
      },
      "source": [
        "<a href=\"https://colab.research.google.com/github/pollcrater/Machine-Learning-Assignments/blob/main/Restaurant_Reviews_using_NLP.ipynb\" target=\"_parent\"><img src=\"https://colab.research.google.com/assets/colab-badge.svg\" alt=\"Open In Colab\"/></a>"
      ]
    },
    {
      "cell_type": "markdown",
      "source": [
        "# NLP analysis of Restaurant reviews:\n",
        "\n",
        "\n",
        "\n",
        "**Natural language processing (NLP)** is an area of computer science and artificial intelligence concerned with the interactions between computers and human (natural) languages, in particular how to program computers to process and analyze large amounts of natural language data. It is the branch of machine learning which is about analyzing any text and handling predictive analysis.\n",
        "\n",
        "\n",
        "\n",
        "\n",
        "\n",
        "\n",
        "\n"
      ],
      "metadata": {
        "id": "LCu5YnSgUzu0"
      }
    },
    {
      "cell_type": "markdown",
      "source": [
        "# **Step 1:** Import dataset"
      ],
      "metadata": {
        "id": "8xY3DC9CVkDQ"
      }
    },
    {
      "cell_type": "code",
      "source": [
        "import pandas as pd  #Import libraries\n",
        "!wget https://cdncontribute.geeksforgeeks.org/wp-content/uploads/Restaurant_Reviews.tsv\n",
        "dataset = pd.read_csv(\"Restaurant_Reviews.tsv\", delimiter = \"\\t\" , quoting = 3)  #Import the dataset"
      ],
      "metadata": {
        "id": "uC1qMdLqBoVy",
        "colab": {
          "base_uri": "https://localhost:8080/"
        },
        "outputId": "6752cae1-f004-4807-a4ab-9be64819c526"
      },
      "execution_count": 1,
      "outputs": [
        {
          "output_type": "stream",
          "name": "stdout",
          "text": [
            "--2022-08-04 10:24:43--  https://cdncontribute.geeksforgeeks.org/wp-content/uploads/Restaurant_Reviews.tsv\n",
            "Resolving cdncontribute.geeksforgeeks.org (cdncontribute.geeksforgeeks.org)... 108.157.172.33, 108.157.172.227, 108.157.172.12, ...\n",
            "Connecting to cdncontribute.geeksforgeeks.org (cdncontribute.geeksforgeeks.org)|108.157.172.33|:443... connected.\n",
            "HTTP request sent, awaiting response... 200 OK\n",
            "Length: 61332 (60K) [text/tab-separated-values]\n",
            "Saving to: ‘Restaurant_Reviews.tsv’\n",
            "\n",
            "Restaurant_Reviews. 100%[===================>]  59.89K  --.-KB/s    in 0.02s   \n",
            "\n",
            "2022-08-04 10:24:43 (2.64 MB/s) - ‘Restaurant_Reviews.tsv’ saved [61332/61332]\n",
            "\n"
          ]
        }
      ]
    },
    {
      "cell_type": "code",
      "source": [
        "dataset\n"
      ],
      "metadata": {
        "id": "tykwOFqHB8ND",
        "colab": {
          "base_uri": "https://localhost:8080/",
          "height": 424
        },
        "outputId": "f11265fc-6d93-4db3-ea2c-0526bc2936cf"
      },
      "execution_count": 2,
      "outputs": [
        {
          "output_type": "execute_result",
          "data": {
            "text/plain": [
              "                                                Review  Liked\n",
              "0                             Wow... Loved this place.      1\n",
              "1                                   Crust is not good.      0\n",
              "2            Not tasty and the texture was just nasty.      0\n",
              "3    Stopped by during the late May bank holiday of...      1\n",
              "4    The selection on the menu was great and so wer...      1\n",
              "..                                                 ...    ...\n",
              "995  I think food should have flavor and texture an...      0\n",
              "996                           Appetite instantly gone.      0\n",
              "997  Overall I was not impressed and would not go b...      0\n",
              "998  The whole experience was underwhelming, and I ...      0\n",
              "999  Then, as if I hadn't wasted enough of my life ...      0\n",
              "\n",
              "[1000 rows x 2 columns]"
            ],
            "text/html": [
              "\n",
              "  <div id=\"df-aeeee381-97fa-4bbf-ab48-a754682ee82a\">\n",
              "    <div class=\"colab-df-container\">\n",
              "      <div>\n",
              "<style scoped>\n",
              "    .dataframe tbody tr th:only-of-type {\n",
              "        vertical-align: middle;\n",
              "    }\n",
              "\n",
              "    .dataframe tbody tr th {\n",
              "        vertical-align: top;\n",
              "    }\n",
              "\n",
              "    .dataframe thead th {\n",
              "        text-align: right;\n",
              "    }\n",
              "</style>\n",
              "<table border=\"1\" class=\"dataframe\">\n",
              "  <thead>\n",
              "    <tr style=\"text-align: right;\">\n",
              "      <th></th>\n",
              "      <th>Review</th>\n",
              "      <th>Liked</th>\n",
              "    </tr>\n",
              "  </thead>\n",
              "  <tbody>\n",
              "    <tr>\n",
              "      <th>0</th>\n",
              "      <td>Wow... Loved this place.</td>\n",
              "      <td>1</td>\n",
              "    </tr>\n",
              "    <tr>\n",
              "      <th>1</th>\n",
              "      <td>Crust is not good.</td>\n",
              "      <td>0</td>\n",
              "    </tr>\n",
              "    <tr>\n",
              "      <th>2</th>\n",
              "      <td>Not tasty and the texture was just nasty.</td>\n",
              "      <td>0</td>\n",
              "    </tr>\n",
              "    <tr>\n",
              "      <th>3</th>\n",
              "      <td>Stopped by during the late May bank holiday of...</td>\n",
              "      <td>1</td>\n",
              "    </tr>\n",
              "    <tr>\n",
              "      <th>4</th>\n",
              "      <td>The selection on the menu was great and so wer...</td>\n",
              "      <td>1</td>\n",
              "    </tr>\n",
              "    <tr>\n",
              "      <th>...</th>\n",
              "      <td>...</td>\n",
              "      <td>...</td>\n",
              "    </tr>\n",
              "    <tr>\n",
              "      <th>995</th>\n",
              "      <td>I think food should have flavor and texture an...</td>\n",
              "      <td>0</td>\n",
              "    </tr>\n",
              "    <tr>\n",
              "      <th>996</th>\n",
              "      <td>Appetite instantly gone.</td>\n",
              "      <td>0</td>\n",
              "    </tr>\n",
              "    <tr>\n",
              "      <th>997</th>\n",
              "      <td>Overall I was not impressed and would not go b...</td>\n",
              "      <td>0</td>\n",
              "    </tr>\n",
              "    <tr>\n",
              "      <th>998</th>\n",
              "      <td>The whole experience was underwhelming, and I ...</td>\n",
              "      <td>0</td>\n",
              "    </tr>\n",
              "    <tr>\n",
              "      <th>999</th>\n",
              "      <td>Then, as if I hadn't wasted enough of my life ...</td>\n",
              "      <td>0</td>\n",
              "    </tr>\n",
              "  </tbody>\n",
              "</table>\n",
              "<p>1000 rows × 2 columns</p>\n",
              "</div>\n",
              "      <button class=\"colab-df-convert\" onclick=\"convertToInteractive('df-aeeee381-97fa-4bbf-ab48-a754682ee82a')\"\n",
              "              title=\"Convert this dataframe to an interactive table.\"\n",
              "              style=\"display:none;\">\n",
              "        \n",
              "  <svg xmlns=\"http://www.w3.org/2000/svg\" height=\"24px\"viewBox=\"0 0 24 24\"\n",
              "       width=\"24px\">\n",
              "    <path d=\"M0 0h24v24H0V0z\" fill=\"none\"/>\n",
              "    <path d=\"M18.56 5.44l.94 2.06.94-2.06 2.06-.94-2.06-.94-.94-2.06-.94 2.06-2.06.94zm-11 1L8.5 8.5l.94-2.06 2.06-.94-2.06-.94L8.5 2.5l-.94 2.06-2.06.94zm10 10l.94 2.06.94-2.06 2.06-.94-2.06-.94-.94-2.06-.94 2.06-2.06.94z\"/><path d=\"M17.41 7.96l-1.37-1.37c-.4-.4-.92-.59-1.43-.59-.52 0-1.04.2-1.43.59L10.3 9.45l-7.72 7.72c-.78.78-.78 2.05 0 2.83L4 21.41c.39.39.9.59 1.41.59.51 0 1.02-.2 1.41-.59l7.78-7.78 2.81-2.81c.8-.78.8-2.07 0-2.86zM5.41 20L4 18.59l7.72-7.72 1.47 1.35L5.41 20z\"/>\n",
              "  </svg>\n",
              "      </button>\n",
              "      \n",
              "  <style>\n",
              "    .colab-df-container {\n",
              "      display:flex;\n",
              "      flex-wrap:wrap;\n",
              "      gap: 12px;\n",
              "    }\n",
              "\n",
              "    .colab-df-convert {\n",
              "      background-color: #E8F0FE;\n",
              "      border: none;\n",
              "      border-radius: 50%;\n",
              "      cursor: pointer;\n",
              "      display: none;\n",
              "      fill: #1967D2;\n",
              "      height: 32px;\n",
              "      padding: 0 0 0 0;\n",
              "      width: 32px;\n",
              "    }\n",
              "\n",
              "    .colab-df-convert:hover {\n",
              "      background-color: #E2EBFA;\n",
              "      box-shadow: 0px 1px 2px rgba(60, 64, 67, 0.3), 0px 1px 3px 1px rgba(60, 64, 67, 0.15);\n",
              "      fill: #174EA6;\n",
              "    }\n",
              "\n",
              "    [theme=dark] .colab-df-convert {\n",
              "      background-color: #3B4455;\n",
              "      fill: #D2E3FC;\n",
              "    }\n",
              "\n",
              "    [theme=dark] .colab-df-convert:hover {\n",
              "      background-color: #434B5C;\n",
              "      box-shadow: 0px 1px 3px 1px rgba(0, 0, 0, 0.15);\n",
              "      filter: drop-shadow(0px 1px 2px rgba(0, 0, 0, 0.3));\n",
              "      fill: #FFFFFF;\n",
              "    }\n",
              "  </style>\n",
              "\n",
              "      <script>\n",
              "        const buttonEl =\n",
              "          document.querySelector('#df-aeeee381-97fa-4bbf-ab48-a754682ee82a button.colab-df-convert');\n",
              "        buttonEl.style.display =\n",
              "          google.colab.kernel.accessAllowed ? 'block' : 'none';\n",
              "\n",
              "        async function convertToInteractive(key) {\n",
              "          const element = document.querySelector('#df-aeeee381-97fa-4bbf-ab48-a754682ee82a');\n",
              "          const dataTable =\n",
              "            await google.colab.kernel.invokeFunction('convertToInteractive',\n",
              "                                                     [key], {});\n",
              "          if (!dataTable) return;\n",
              "\n",
              "          const docLinkHtml = 'Like what you see? Visit the ' +\n",
              "            '<a target=\"_blank\" href=https://colab.research.google.com/notebooks/data_table.ipynb>data table notebook</a>'\n",
              "            + ' to learn more about interactive tables.';\n",
              "          element.innerHTML = '';\n",
              "          dataTable['output_type'] = 'display_data';\n",
              "          await google.colab.output.renderOutput(dataTable, element);\n",
              "          const docLink = document.createElement('div');\n",
              "          docLink.innerHTML = docLinkHtml;\n",
              "          element.appendChild(docLink);\n",
              "        }\n",
              "      </script>\n",
              "    </div>\n",
              "  </div>\n",
              "  "
            ]
          },
          "metadata": {},
          "execution_count": 2
        }
      ]
    },
    {
      "cell_type": "markdown",
      "source": [
        "# Step 2: Text Cleaning or Preprocessing\n",
        " \n",
        "\n",
        "*   **Remove Punctuations, Numbers** :  Punctuations, Numbers doesn’t help much in processong the given text, if included, they will just increase the size of bag of words that we will create in the last step and decrease the efficency of algorithm.\n",
        "*   **Stemming** : Take roots of the word\n",
        "    example:\n",
        "\n",
        "      ![image.png](data:image/png;base64,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)\n",
        "\n",
        "*   **Convert each word into its lower case** : For example, it is useless to have same words in different cases (eg ‘good’ and ‘GOOD’).\n"
      ],
      "metadata": {
        "id": "na8PUPSWOyyU"
      }
    },
    {
      "cell_type": "code",
      "source": [
        "import re   # library to clean data  re(regular expressions)\n",
        "import nltk  # Natural Language Tool Kit \n",
        "nltk.download('stopwords')"
      ],
      "metadata": {
        "id": "hWBK4apYMxS8",
        "outputId": "e2bd1a6d-8bea-46da-f052-2b14f08e757c",
        "colab": {
          "base_uri": "https://localhost:8080/"
        }
      },
      "execution_count": 3,
      "outputs": [
        {
          "output_type": "stream",
          "name": "stderr",
          "text": [
            "[nltk_data] Downloading package stopwords to /root/nltk_data...\n",
            "[nltk_data]   Unzipping corpora/stopwords.zip.\n"
          ]
        },
        {
          "output_type": "execute_result",
          "data": {
            "text/plain": [
              "True"
            ]
          },
          "metadata": {},
          "execution_count": 3
        }
      ]
    },
    {
      "cell_type": "code",
      "source": [
        "from nltk.corpus import stopwords                 # to remove stopword \n",
        "from nltk.stem.porter import PorterStemmer        # for Stemming propose  \n",
        "corpus = []                                       # Initialize empty array to append clean text \n",
        "for i in range(0,1000):                           # 1000 (reviews) rows to clean\n",
        "    review  = re.sub(pattern = '[^a-zA-Z]',repl = ' ', string = dataset['Review'][i])  # column : \"Review\", row ith. re.sub() this replaces the part of the string where the pattern is found with repl.\n",
        "    \n",
        "    review = review.lower()                       # convert all cases to lower cases\n",
        "   \n",
        "    review = review.split()                       # split to array(default delimiter is \" \")\n",
        "    #print(review)\n",
        "    \n",
        "    ps = PorterStemmer()                          # creating PorterStemmer object to take main stem of each word \n",
        "    \n",
        "    all_stopwords = stopwords.words('english')      # stopwords don't add meaning to sentance. \n",
        "    #print(type(all_stopwords))\n",
        "    all_stopwords.remove('not')                       \n",
        "    #print(all_stopwords) \n",
        "\n",
        "    # we are trying to modify review which doesn't contain stopwords except \"not\". beause we don't need them.\n",
        "    review = [ps.stem(word) for word in review if not word in set(all_stopwords)]  # loop for stemming each word in string array at ith row which is not present in all_stopwords\n",
        "    \n",
        "    review = ' '.join(review)                     # rejoin all string array elements to create back into a string \n",
        "    #print(review)\n",
        "    corpus.append(review)                         # append each string to create array of clean text\n",
        "    #print(corpus)"
      ],
      "metadata": {
        "id": "UmZPi50lNH7Y"
      },
      "execution_count": 4,
      "outputs": []
    },
    {
      "cell_type": "markdown",
      "source": [
        "**Note**:\n",
        "\n",
        "*   ^[a-zA-Z] means any a-z or A-Z at the start of a line or means all strings that start with a letter.\n",
        "\n",
        "*   [^a-zA-Z] means any character that IS NOT a-z OR A-Z or  all strings that contain a non-letter.\n",
        "\n",
        "The caret (\"^\") is used in two different ways, one to signal the start of the text, one to negate a character match inside square brackets."
      ],
      "metadata": {
        "id": "2XxTC72s-c8w"
      }
    },
    {
      "cell_type": "markdown",
      "source": [
        "# Step 3: Tokenization, involves splitting sentences and words from the body of the text."
      ],
      "metadata": {
        "id": "vsYErQZvWxBN"
      }
    },
    {
      "cell_type": "markdown",
      "source": [
        "# Step 4: Making the bag of words via sparse matrix\n",
        "\n",
        "*   Take all the different words of reviews in the dataset without repeating of words.\n",
        "*   One column for each word, therefore there are going to be many columns.\n",
        "*   Rows are reviews\n",
        "*   If word is there in row of dataset of reviews, then the count of word will be there in row of bag of words under the column of the word.\n",
        "Examples: Let’s take a dataset of reviews of only two reviews\n",
        "\n",
        "     ![image.png](data:image/png;base64,iVBORw0KGgoAAAANSUhEUgAAAOwAAAA9CAIAAAAh0xLJAAAFWUlEQVR4nO2dPXqjMBCGxT57FHCR+ARwAjtNKrfpoLSb7bZMtw2Upts2VZqFE5gTEBeBu2gLfiQUCcs2RiNn3ioogD4NH0KyNdihlBKjfHx8PD4+mtUgAFCSgBGFcMIiKPlhUAqCTAKaGLEeNDFiPWhixHpuaeI8coKkPu+YOgkcx3HOP3CS2u3HylbXSeBE+eXHA+uJ8z+7IswopYeta1rLLcijKe5PkFzrxCv4aaTWMfwHz7SE27Ham/5E8x7heuI8cnjau6p7vnNFY+WsOEg+z5NSJ4GzTkmx80zUPqaqP2c9UnseOUGSNDGMoojXVSdBe3DOl3OnuaoLU7Vacv46CYKk7q90lLOdzntADMNSJ4Hj7QqSrrkTnbxGslZf9qiiLVlI/LiilNIq9kmY0e7P7m9+Y6y8PQvNQkL6jRHKsmQbTMVMtZ+QxMWC1ziova0lCwlh/xjZqS3OQsKpPVMqFzRVq9k5uT2q2CeDMMpid1lYhDJlABSqwmwYEt3mU0ppZ2JeQu8kUWv3D83ygSP1BPGHzFL7CUmD+6Uv4c/bV8NftcGm6LKmVNj9KoWnWs32Gew92NDQMxYWyamlUVKrijVuo69KKKWUdsMJd7Ek5WdNCCH5e0qWC5cQUh2LQa/tPfjFsdIvvw6ztTe420MVl2vhcduMeBrWqfzI1XNI0veckPrfWxH+ls1TJxn9q1vNntvebuLIyMMiII+SSlW6u1xkZ+L6s+xqXadhtl8RQoj34A92ro6F/+Dpl1+H2dp73O2BUkqz5c7rxnBCHyT/JGX1K/bT97z+91aEzyvZmYtjdb08VavzyNst+SHXxEjCIiCLklpVmNEqJruXSz666UxcHQtW6b6Nufu08dM1mxS8pv7myR0pXyxJ+trIqJNA1UlpYrZ2kc4s7tPG72rR0P/6ovDw6jns1ZI8uvhzN41W53+m7okZw3uofZZrRemrKnf7NybKe2IMftjCYIMTrngwYlGUs9srzKrYv2piN0ftJyTxQWE3+bAP+TpnG+4njN+HA0dJ285TSJWt7rX7cRxOOyaWhqWTwc/cvjrqlCqtyZ18YicMxK+YFJ2NIAgCACUJGFEIJyzyiV11LNrJHCHNABlBbKH9xm61r+LAc5y21I+rO/3eF7lD+q+d3e2Bbk0qQZALccoShw6I3TjU9IoUOJlbPQAlCWCOHebYIXcFmhixHjQxYj1oYsR60MSI9cxq4mYZHqAcs6lyK26HIYVwrpSOktlMnEeO80J+32BR4MXkkbcj3eqddA3hkgkYUQjnSukqmc3Eqz2lhy2kHND8PSXdavXVr9ifZHnvpJhRCOdK6Sr5vmPi+rMUciv61bBAgK8QCN/XxEPcxdK0hBPAV2gMNHED/NWn8BUa4/ua2F0shSw3tqAaBvAVAuH7mpjlI5P29VnydE6DwFcIhLkySgYpfITLozKZ9KLIcoOTh2NCIZwrpasEl2JKAChJAJdi4lJM5K5AEyPWgyZGrAdz7BDrwYmdBICSBHBihxM75K5AEyPWgyZGrAdNjFgPmhixnvlMrPohJLPASSZTYUAhnNRDPSVzmbhOXt42/cuX2YveTQInmUyFEYVwUg91lcxlYnd76F4W6z5tfBCJNnCSyVSYUAgn9VBbiYkx8fCN3ggo4CT26SuZ/2dx6+Q19eMKl3fbAJzEvjElc/fEzTDnL76G3g7gJPaNKZnVxHnkrEv8JQXQwEns01cym4nrJEAH2wCcxD59JYbSpdjvn5lLaIOTTKbCkEI4qYd6SnAppgSAkgRwKSYuxUTuCjQxYj1oYsR6MMcOsR6c2EkAKEkAJ3a8kv9A++co6Z7jJgAAAABJRU5ErkJggg==)\n",
        "\n",
        "For this purpose we need *CountVectorizer* class from **sklearn.feature_extraction.text**.\n",
        "We can also set max number of features (max no. features which help the most via attribute “max_features”). Do the training on corpus and then apply the same transformation to the corpus “.fit_transform(corpus)” and then convert it into array. If review is positive or negative that answer is in second column of : dataset[:, 1] : all rows ans 1st column (indexing from zero)."
      ],
      "metadata": {
        "id": "G-FP2RKpXmwF"
      }
    },
    {
      "cell_type": "code",
      "source": [
        "from sklearn.feature_extraction.text import CountVectorizer  # Creating the Bag of Words model \n",
        " \n",
        "cv = CountVectorizer(max_features = 1400)                    # \"max_features\" is attribute to experiment with to get better results \n",
        "  \n",
        "X = cv.fit_transform(corpus).toarray()                       # X contains corpus (dependent variable) \n",
        "  \n",
        "y = dataset.iloc[:, 1].values                                # y contains answers if review is positive or negative "
      ],
      "metadata": {
        "id": "29jza0HNYXD9"
      },
      "execution_count": 5,
      "outputs": []
    },
    {
      "cell_type": "markdown",
      "source": [
        "**Description of the dataset to be used:**\n",
        "\n",
        "\n",
        "*   Columns seperated by (tab space)\n",
        "*   First column is about reviews of people\n",
        "In second column, 0 is for negative review and 1 is for positive "
      ],
      "metadata": {
        "id": "5LC3ZAz5ZF6f"
      }
    },
    {
      "cell_type": "code",
      "source": [
        "X"
      ],
      "metadata": {
        "colab": {
          "base_uri": "https://localhost:8080/"
        },
        "id": "aK2Jjd-mnA9Z",
        "outputId": "03b71a3a-4398-4071-e4a9-a1d73c909133"
      },
      "execution_count": 6,
      "outputs": [
        {
          "output_type": "execute_result",
          "data": {
            "text/plain": [
              "array([[0, 0, 0, ..., 0, 0, 0],\n",
              "       [0, 0, 0, ..., 0, 0, 0],\n",
              "       [0, 0, 0, ..., 0, 0, 0],\n",
              "       ...,\n",
              "       [0, 0, 0, ..., 0, 0, 0],\n",
              "       [0, 0, 0, ..., 0, 0, 0],\n",
              "       [0, 0, 0, ..., 0, 0, 0]])"
            ]
          },
          "metadata": {},
          "execution_count": 6
        }
      ]
    },
    {
      "cell_type": "markdown",
      "source": [
        "# Step 5 : Splitting Corpus into Training and Test set.\n",
        "\n",
        " For this we need class train_test_split from sklearn.cross_validation. Split can be made 70/30 or 80/20 or 85/15 or 75/25, here I choose 75/25 via “test_size”.\n",
        "X is the bag of words, y is 0 or 1 (positive or negative)."
      ],
      "metadata": {
        "id": "3jMJrikzCCgQ"
      }
    },
    {
      "cell_type": "code",
      "source": [
        "from sklearn.model_selection import train_test_split\n",
        "X_train, X_test, y_train, y_test = train_test_split(X, y, test_size = 0.2,shuffle=True,random_state=123)  \n",
        "# Splitting the dataset into  the Training set and Test set. experiment with \"test_size\"  to get better results "
      ],
      "metadata": {
        "id": "Xc-cci-9CVxv"
      },
      "execution_count": 43,
      "outputs": []
    },
    {
      "cell_type": "code",
      "source": [
        "X_train_1 =X_train\n",
        "X_test_1 = X_test\n",
        "y_train_1 = y_train\n",
        "y_test_1 = y_test"
      ],
      "metadata": {
        "id": "XosrMmmXnu8P"
      },
      "execution_count": 44,
      "outputs": []
    },
    {
      "cell_type": "markdown",
      "source": [
        "# Step 6: Fitting a Predictive Model \n",
        "Here, we are creating a models list with a model name , the model itself. We have Random Forest ,\n",
        "Logistic regression , Support Vector Machine, Naive bayes.These Machine Learning\n",
        "approaches will be used.\n",
        "**** \n",
        "**note** :\n",
        "In Random Forest Classifier: \n",
        "n_estimators can be said as number of  trees, experiment with n_estimators  to get better results  \n"
      ],
      "metadata": {
        "id": "aHpB2HF-C6JV"
      }
    },
    {
      "cell_type": "code",
      "source": [
        "from sklearn.linear_model import LogisticRegression\n",
        "from sklearn.naive_bayes import GaussianNB\n",
        "from sklearn.svm import SVC\n",
        "from sklearn import metrics\n",
        "from sklearn.ensemble import RandomForestClassifier    "
      ],
      "metadata": {
        "id": "2Y80bIoSYBwR"
      },
      "execution_count": 45,
      "outputs": []
    },
    {
      "cell_type": "code",
      "source": [
        "models = [(\"Random Forest\",RandomForestClassifier(n_estimators = 501,criterion = 'entropy')),(\"Logistic Regression\", LogisticRegression()), (\"Support Vector Machine\", SVC()), (\"Naive Bayes Classifier\", GaussianNB())]"
      ],
      "metadata": {
        "id": "ZjDf20RzXVmr"
      },
      "execution_count": 46,
      "outputs": []
    },
    {
      "cell_type": "code",
      "source": [
        "score_dic={}\n",
        "for name, model in models:\n",
        "    classifier_model = model\n",
        "    classifier_model.fit(X_train,y_train)\n",
        "\n",
        "    y_predicted = classifier_model.predict(X_test)\n",
        "    # print(\"Results with %s\" % name)\n",
        "    # print(\"Accuracy Score: %s\" % (metrics.accuracy_score(y_test,y_predicted)))\n",
        "    score_dic[model] =  metrics.accuracy_score(y_test,y_predicted)\n",
        "print(score_dic)"
      ],
      "metadata": {
        "colab": {
          "base_uri": "https://localhost:8080/"
        },
        "id": "rDUBRPI8XzkL",
        "outputId": "5dca0107-f8e5-4ad5-9c96-4fb51d182de1"
      },
      "execution_count": 47,
      "outputs": [
        {
          "output_type": "stream",
          "name": "stdout",
          "text": [
            "{RandomForestClassifier(criterion='entropy', n_estimators=501): 0.78, LogisticRegression(): 0.835, SVC(): 0.825, GaussianNB(): 0.675}\n"
          ]
        }
      ]
    },
    {
      "cell_type": "code",
      "source": [
        "best_accuracy,best_model = max(zip(score_dic.values(),score_dic.keys()))\n",
        "best_model"
      ],
      "metadata": {
        "colab": {
          "base_uri": "https://localhost:8080/"
        },
        "id": "NOH7KMj8cmXy",
        "outputId": "87f1cce3-33d0-4d63-b75f-8e7bcd8ea118"
      },
      "execution_count": 48,
      "outputs": [
        {
          "output_type": "execute_result",
          "data": {
            "text/plain": [
              "LogisticRegression()"
            ]
          },
          "metadata": {},
          "execution_count": 48
        }
      ]
    },
    {
      "cell_type": "markdown",
      "source": [
        "# Step 7: Pridicting Final Results via using .predict() method with attribute X_test\n",
        "\n"
      ],
      "metadata": {
        "id": "l1mA39QxDSl-"
      }
    },
    {
      "cell_type": "code",
      "source": [
        "# Predicting the Test set results \n",
        "y_pred = best_model.predict(X_test) \n",
        "y_pred"
      ],
      "metadata": {
        "colab": {
          "base_uri": "https://localhost:8080/"
        },
        "id": "dSU7nfrrDZJW",
        "outputId": "bf1a205e-22f4-465f-ab42-a0cfcb33ac70"
      },
      "execution_count": 49,
      "outputs": [
        {
          "output_type": "execute_result",
          "data": {
            "text/plain": [
              "array([1, 1, 1, 1, 1, 0, 1, 1, 0, 1, 1, 0, 1, 0, 0, 1, 0, 0, 1, 0, 1, 1,\n",
              "       1, 1, 1, 1, 0, 1, 1, 1, 1, 1, 0, 1, 1, 0, 1, 1, 0, 1, 1, 0, 0, 1,\n",
              "       1, 0, 1, 1, 1, 1, 1, 1, 0, 0, 1, 0, 1, 1, 1, 1, 1, 0, 1, 0, 0, 1,\n",
              "       1, 0, 0, 1, 1, 1, 0, 0, 1, 1, 0, 1, 1, 0, 1, 0, 1, 0, 0, 1, 1, 0,\n",
              "       1, 0, 1, 0, 0, 0, 1, 0, 1, 0, 0, 1, 0, 0, 1, 1, 0, 1, 1, 1, 0, 1,\n",
              "       1, 0, 1, 0, 0, 0, 0, 0, 1, 0, 1, 1, 1, 1, 0, 1, 0, 1, 1, 1, 0, 0,\n",
              "       1, 0, 1, 0, 0, 0, 1, 0, 0, 1, 0, 0, 0, 1, 1, 1, 0, 0, 0, 0, 0, 1,\n",
              "       1, 0, 1, 1, 1, 1, 1, 0, 0, 1, 0, 0, 0, 1, 1, 0, 0, 1, 0, 0, 0, 0,\n",
              "       1, 1, 1, 0, 1, 1, 1, 1, 0, 0, 0, 1, 1, 0, 0, 1, 1, 0, 0, 1, 1, 1,\n",
              "       0, 1])"
            ]
          },
          "metadata": {},
          "execution_count": 49
        }
      ]
    },
    {
      "cell_type": "markdown",
      "source": [
        "**Note:** Accuracy with random forest was 80%.(It may be different when performed experiment with different test size, here ***test_size = 0.25***)."
      ],
      "metadata": {
        "id": "eeL5DYAfDf4i"
      }
    },
    {
      "cell_type": "markdown",
      "source": [
        "# Step 8: To know the accuracy, confusion matrix is needed.\n",
        "\n",
        "Confusion Matrix is a 2X2 Matrix.\n",
        "\n",
        "*   **TRUE POSITIVE :** measures the proportion of actual positives that are correctly identified.\n",
        "*   **TRUE NEGATIVE :** measures the proportion of actual positives that are not correctly identified.\n",
        "*   **FALSE POSITIVE :** measures the proportion of actual negatives that are correctly identified.\n",
        "*   **FALSE NEGATIVE :** measures the proportion of actual negatives that are not correctly identified.\n",
        "\n",
        "\n",
        " **Note** :  True or False refers to the assigned classification being Correct or Incorrect, while Positive or Negative refers to assignment to the Positive or the Negative Category\n",
        "\n",
        "![image.png](data:image/png;base64,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)"
      ],
      "metadata": {
        "id": "OmQ461ZkDlGu"
      }
    },
    {
      "cell_type": "code",
      "source": [
        "from sklearn.metrics import confusion_matrix, accuracy_score   # Making the Confusion Matrix \n",
        "cm = confusion_matrix(y_test, y_pred) \n",
        "cm "
      ],
      "metadata": {
        "colab": {
          "base_uri": "https://localhost:8080/"
        },
        "id": "wWwyGMzqGVJQ",
        "outputId": "c5aff1dc-b341-4bb4-9fb2-283eaf98b984"
      },
      "execution_count": 50,
      "outputs": [
        {
          "output_type": "execute_result",
          "data": {
            "text/plain": [
              "array([[75, 20],\n",
              "       [13, 92]])"
            ]
          },
          "metadata": {},
          "execution_count": 50
        }
      ]
    },
    {
      "cell_type": "code",
      "source": [
        "accuracy_score(y_test, y_pred)"
      ],
      "metadata": {
        "colab": {
          "base_uri": "https://localhost:8080/"
        },
        "id": "88V1UcXx5aBZ",
        "outputId": "638fe972-fbe5-4f9b-9307-ce091d3bfc5d"
      },
      "execution_count": 52,
      "outputs": [
        {
          "output_type": "execute_result",
          "data": {
            "text/plain": [
              "0.835"
            ]
          },
          "metadata": {},
          "execution_count": 52
        }
      ]
    },
    {
      "cell_type": "markdown",
      "source": [
        "# Using Pipelines:\n",
        "**From step 6**\n",
        "\n",
        "Method 3 :(Logistic regression)"
      ],
      "metadata": {
        "id": "6A8pjDGYpc5v"
      }
    },
    {
      "cell_type": "code",
      "source": [
        "from sklearn.linear_model import LogisticRegression\n",
        "\n",
        "from sklearn.pipeline import Pipeline\n",
        "\n",
        "pipe = Pipeline(steps=[('estimator', LogisticRegression())])\n",
        "\n",
        "pipe.fit(X_train, y_train)"
      ],
      "metadata": {
        "colab": {
          "base_uri": "https://localhost:8080/"
        },
        "id": "vlWCjMZAqIdl",
        "outputId": "22c9c4d3-1152-4558-8879-8bae691d8b9e"
      },
      "execution_count": 53,
      "outputs": [
        {
          "output_type": "execute_result",
          "data": {
            "text/plain": [
              "Pipeline(steps=[('estimator', LogisticRegression())])"
            ]
          },
          "metadata": {},
          "execution_count": 53
        }
      ]
    },
    {
      "cell_type": "code",
      "source": [
        "y_pred = pipe.predict(X_test)\n",
        "y_pred"
      ],
      "metadata": {
        "colab": {
          "base_uri": "https://localhost:8080/"
        },
        "id": "m7TGzJvuqKe9",
        "outputId": "9f3ef6eb-33ef-4b2b-fc14-0f19252ab33b"
      },
      "execution_count": 54,
      "outputs": [
        {
          "output_type": "execute_result",
          "data": {
            "text/plain": [
              "array([1, 1, 1, 1, 1, 0, 1, 1, 0, 1, 1, 0, 1, 0, 0, 1, 0, 0, 1, 0, 1, 1,\n",
              "       1, 1, 1, 1, 0, 1, 1, 1, 1, 1, 0, 1, 1, 0, 1, 1, 0, 1, 1, 0, 0, 1,\n",
              "       1, 0, 1, 1, 1, 1, 1, 1, 0, 0, 1, 0, 1, 1, 1, 1, 1, 0, 1, 0, 0, 1,\n",
              "       1, 0, 0, 1, 1, 1, 0, 0, 1, 1, 0, 1, 1, 0, 1, 0, 1, 0, 0, 1, 1, 0,\n",
              "       1, 0, 1, 0, 0, 0, 1, 0, 1, 0, 0, 1, 0, 0, 1, 1, 0, 1, 1, 1, 0, 1,\n",
              "       1, 0, 1, 0, 0, 0, 0, 0, 1, 0, 1, 1, 1, 1, 0, 1, 0, 1, 1, 1, 0, 0,\n",
              "       1, 0, 1, 0, 0, 0, 1, 0, 0, 1, 0, 0, 0, 1, 1, 1, 0, 0, 0, 0, 0, 1,\n",
              "       1, 0, 1, 1, 1, 1, 1, 0, 0, 1, 0, 0, 0, 1, 1, 0, 0, 1, 0, 0, 0, 0,\n",
              "       1, 1, 1, 0, 1, 1, 1, 1, 0, 0, 0, 1, 1, 0, 0, 1, 1, 0, 0, 1, 1, 1,\n",
              "       0, 1])"
            ]
          },
          "metadata": {},
          "execution_count": 54
        }
      ]
    },
    {
      "cell_type": "code",
      "source": [
        "pipe.score(X_test, y_test)"
      ],
      "metadata": {
        "id": "sM-O19w0qMis",
        "colab": {
          "base_uri": "https://localhost:8080/"
        },
        "outputId": "e42150c6-96b8-42fd-c449-06d1583ed010"
      },
      "execution_count": 55,
      "outputs": [
        {
          "output_type": "execute_result",
          "data": {
            "text/plain": [
              "0.835"
            ]
          },
          "metadata": {},
          "execution_count": 55
        }
      ]
    }
  ],
  "metadata": {
    "colab": {
      "collapsed_sections": [],
      "name": "Restaurant Reviews using NLP",
      "provenance": [],
      "include_colab_link": true
    },
    "kernelspec": {
      "display_name": "Python 3",
      "name": "python3"
    }
  },
  "nbformat": 4,
  "nbformat_minor": 0
}